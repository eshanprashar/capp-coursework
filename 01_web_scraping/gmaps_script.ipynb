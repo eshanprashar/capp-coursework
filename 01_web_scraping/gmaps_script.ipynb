{
 "cells": [
  {
   "cell_type": "code",
   "execution_count": 10,
   "metadata": {},
   "outputs": [],
   "source": [
    "# Importing packages\n",
    "import pandas as pd\n",
    "import pandas as pd\n",
    "import requests\n",
    "import csv\n",
    "import json\n",
    "import time\n",
    "import os"
   ]
  },
  {
   "cell_type": "code",
   "execution_count": 14,
   "metadata": {},
   "outputs": [],
   "source": [
    "# Specify the directory path for saving files\n",
    "save_dir = \"../2. analysis\"\n",
    "\n",
    "# Create the directory if it doesn't exist\n",
    "if not os.path.exists(save_dir):\n",
    "    os.makedirs(save_dir)"
   ]
  },
  {
   "cell_type": "code",
   "execution_count": 2,
   "metadata": {},
   "outputs": [],
   "source": [
    "def fetch_results(url):\n",
    "    results = []\n",
    "    page_token = None\n",
    "\n",
    "    while True:\n",
    "        response = requests.get(url, params={'pagetoken': page_token})\n",
    "        data = response.json()\n",
    "\n",
    "        # Append the current page results to the main results list\n",
    "        results.extend(data['results'])\n",
    "\n",
    "        # Check if there are more pages available\n",
    "        if 'next_page_token' in data:\n",
    "            page_token = data['next_page_token']\n",
    "            # Wait for a short duration to ensure the next page token is valid\n",
    "            time.sleep(2)\n",
    "        else:\n",
    "            break\n",
    "\n",
    "    return results"
   ]
  },
  {
   "cell_type": "code",
   "execution_count": 3,
   "metadata": {},
   "outputs": [],
   "source": [
    "state_dict = {\"California\": ['Los Angeles', 'San Diego', 'San Jose','San Fransisco', 'Fresno','Sacremento','Long Beach','Oakland'],\\\n",
    "     \"Texas\": ['Houston', 'San Antonio', 'Dallas']}\n",
    "\n",
    "# Note that Google doesn't allow a private API key to be uploaded on GitHub, so this key is usually shared\\\n",
    "# through private channels; namely email/Slack. Even better if each individual has their own key, not\\\n",
    "# mandatory though\n",
    "api_key = \"#Ask_for_this\"\n",
    "keyword = \"custom builders in\""
   ]
  },
  {
   "cell_type": "code",
   "execution_count": 15,
   "metadata": {},
   "outputs": [],
   "source": [
    "def get_builder_csv(state_dict):\n",
    "    # Function will take a state (and its cities) as input and return list of 50+ custom builders per city. \n",
    "    # Results across cities will be appended and one csv for state will be generated\n",
    "      \n",
    "    # Input params\n",
    "    # state_dict: \n",
    "\n",
    "    #Output: csv with list of builders for the state\n",
    "    for state, cities in state_dict.items():\n",
    "        state_builders = []\n",
    "\n",
    "        for city in cities:\n",
    "            location = city + ', ' + state\n",
    "            url = f'https://maps.googleapis.com/maps/api/place/textsearch/json?query={keyword}+{location}&key={api_key}'\n",
    "            city_builders = fetch_results(url)  # Fetch builders data for the city\n",
    "            # Save the city builders data as JSON\n",
    "            city_json_filename = os.path.join(save_dir, f'{state}_{city}_builders.json')\n",
    "            with open(city_json_filename, 'w') as file:\n",
    "                json.dump(city_builders, file)\n",
    "\n",
    "            state_builders.extend(city_builders)  # Append city builders to the state builders list\n",
    "\n",
    "        # Convert the state builders list to a dataframe\n",
    "        state_dataframe = pd.DataFrame(state_builders)\n",
    "\n",
    "        # Save the state dataframe as CSV\n",
    "        state_csv_filename = os.path.join(save_dir, f'{state}_builders.csv')\n",
    "        state_dataframe.to_csv(state_csv_filename, index=False)\n",
    "\n",
    "        print(f'CSV file created for state: {state}')"
   ]
  },
  {
   "cell_type": "code",
   "execution_count": 16,
   "metadata": {},
   "outputs": [
    {
     "name": "stdout",
     "output_type": "stream",
     "text": [
      "CSV file created for state: California\n"
     ]
    }
   ],
   "source": [
    "state_dict = {\"California\": ['Los Angeles', 'San Diego', 'San Jose','San Fransisco', 'Fresno','Sacremento','Long Beach','Oakland']}\n",
    "get_builder_csv(state_dict)"
   ]
  }
 ],
 "metadata": {
  "kernelspec": {
   "display_name": ".venv",
   "language": "python",
   "name": "python3"
  },
  "language_info": {
   "codemirror_mode": {
    "name": "ipython",
    "version": 3
   },
   "file_extension": ".py",
   "mimetype": "text/x-python",
   "name": "python",
   "nbconvert_exporter": "python",
   "pygments_lexer": "ipython3",
   "version": "3.11.4"
  },
  "orig_nbformat": 4
 },
 "nbformat": 4,
 "nbformat_minor": 2
}
